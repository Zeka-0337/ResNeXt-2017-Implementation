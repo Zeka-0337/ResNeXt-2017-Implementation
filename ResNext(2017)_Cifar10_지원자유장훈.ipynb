{
  "nbformat": 4,
  "nbformat_minor": 0,
  "metadata": {
    "colab": {
      "name": "ResNext(2017) Implementation",
      "provenance": [],
      "collapsed_sections": []
    },
    "kernelspec": {
      "name": "python3",
      "display_name": "Python 3"
    },
    "language_info": {
      "name": "python"
    },
    "accelerator": "GPU",
    "gpuClass": "standard",
    "widgets": {
      "application/vnd.jupyter.widget-state+json": {
        "4019c6a959eb40ab98c44fcb5bf15c4e": {
          "model_module": "@jupyter-widgets/controls",
          "model_name": "HBoxModel",
          "model_module_version": "1.5.0",
          "state": {
            "_dom_classes": [],
            "_model_module": "@jupyter-widgets/controls",
            "_model_module_version": "1.5.0",
            "_model_name": "HBoxModel",
            "_view_count": null,
            "_view_module": "@jupyter-widgets/controls",
            "_view_module_version": "1.5.0",
            "_view_name": "HBoxView",
            "box_style": "",
            "children": [
              "IPY_MODEL_a928cab9a0ab43c2bd69c84b260ca4bf",
              "IPY_MODEL_84f23b1dd67f4f9594e209fe0da066b5",
              "IPY_MODEL_216dd0c7a3f74c80acfe6a7d848b21de"
            ],
            "layout": "IPY_MODEL_fb7f008c6c4f47748fd729ddfa049dd6"
          }
        },
        "a928cab9a0ab43c2bd69c84b260ca4bf": {
          "model_module": "@jupyter-widgets/controls",
          "model_name": "HTMLModel",
          "model_module_version": "1.5.0",
          "state": {
            "_dom_classes": [],
            "_model_module": "@jupyter-widgets/controls",
            "_model_module_version": "1.5.0",
            "_model_name": "HTMLModel",
            "_view_count": null,
            "_view_module": "@jupyter-widgets/controls",
            "_view_module_version": "1.5.0",
            "_view_name": "HTMLView",
            "description": "",
            "description_tooltip": null,
            "layout": "IPY_MODEL_26acfab8a46b4d25bed650c8e558edc0",
            "placeholder": "​",
            "style": "IPY_MODEL_1c1c30c775d24b478f33bcd42ccb0331",
            "value": "100%"
          }
        },
        "84f23b1dd67f4f9594e209fe0da066b5": {
          "model_module": "@jupyter-widgets/controls",
          "model_name": "FloatProgressModel",
          "model_module_version": "1.5.0",
          "state": {
            "_dom_classes": [],
            "_model_module": "@jupyter-widgets/controls",
            "_model_module_version": "1.5.0",
            "_model_name": "FloatProgressModel",
            "_view_count": null,
            "_view_module": "@jupyter-widgets/controls",
            "_view_module_version": "1.5.0",
            "_view_name": "ProgressView",
            "bar_style": "success",
            "description": "",
            "description_tooltip": null,
            "layout": "IPY_MODEL_911524fe47b54b5bab031f2d3bcf620f",
            "max": 170498071,
            "min": 0,
            "orientation": "horizontal",
            "style": "IPY_MODEL_434783b0a7d848afb4103d92f241d1f2",
            "value": 170498071
          }
        },
        "216dd0c7a3f74c80acfe6a7d848b21de": {
          "model_module": "@jupyter-widgets/controls",
          "model_name": "HTMLModel",
          "model_module_version": "1.5.0",
          "state": {
            "_dom_classes": [],
            "_model_module": "@jupyter-widgets/controls",
            "_model_module_version": "1.5.0",
            "_model_name": "HTMLModel",
            "_view_count": null,
            "_view_module": "@jupyter-widgets/controls",
            "_view_module_version": "1.5.0",
            "_view_name": "HTMLView",
            "description": "",
            "description_tooltip": null,
            "layout": "IPY_MODEL_1eec13dbee834875a06861d1b6dc6290",
            "placeholder": "​",
            "style": "IPY_MODEL_f7291c1350fc4d4d9755ccfbb5036151",
            "value": " 170498071/170498071 [00:03&lt;00:00, 54798310.00it/s]"
          }
        },
        "fb7f008c6c4f47748fd729ddfa049dd6": {
          "model_module": "@jupyter-widgets/base",
          "model_name": "LayoutModel",
          "model_module_version": "1.2.0",
          "state": {
            "_model_module": "@jupyter-widgets/base",
            "_model_module_version": "1.2.0",
            "_model_name": "LayoutModel",
            "_view_count": null,
            "_view_module": "@jupyter-widgets/base",
            "_view_module_version": "1.2.0",
            "_view_name": "LayoutView",
            "align_content": null,
            "align_items": null,
            "align_self": null,
            "border": null,
            "bottom": null,
            "display": null,
            "flex": null,
            "flex_flow": null,
            "grid_area": null,
            "grid_auto_columns": null,
            "grid_auto_flow": null,
            "grid_auto_rows": null,
            "grid_column": null,
            "grid_gap": null,
            "grid_row": null,
            "grid_template_areas": null,
            "grid_template_columns": null,
            "grid_template_rows": null,
            "height": null,
            "justify_content": null,
            "justify_items": null,
            "left": null,
            "margin": null,
            "max_height": null,
            "max_width": null,
            "min_height": null,
            "min_width": null,
            "object_fit": null,
            "object_position": null,
            "order": null,
            "overflow": null,
            "overflow_x": null,
            "overflow_y": null,
            "padding": null,
            "right": null,
            "top": null,
            "visibility": null,
            "width": null
          }
        },
        "26acfab8a46b4d25bed650c8e558edc0": {
          "model_module": "@jupyter-widgets/base",
          "model_name": "LayoutModel",
          "model_module_version": "1.2.0",
          "state": {
            "_model_module": "@jupyter-widgets/base",
            "_model_module_version": "1.2.0",
            "_model_name": "LayoutModel",
            "_view_count": null,
            "_view_module": "@jupyter-widgets/base",
            "_view_module_version": "1.2.0",
            "_view_name": "LayoutView",
            "align_content": null,
            "align_items": null,
            "align_self": null,
            "border": null,
            "bottom": null,
            "display": null,
            "flex": null,
            "flex_flow": null,
            "grid_area": null,
            "grid_auto_columns": null,
            "grid_auto_flow": null,
            "grid_auto_rows": null,
            "grid_column": null,
            "grid_gap": null,
            "grid_row": null,
            "grid_template_areas": null,
            "grid_template_columns": null,
            "grid_template_rows": null,
            "height": null,
            "justify_content": null,
            "justify_items": null,
            "left": null,
            "margin": null,
            "max_height": null,
            "max_width": null,
            "min_height": null,
            "min_width": null,
            "object_fit": null,
            "object_position": null,
            "order": null,
            "overflow": null,
            "overflow_x": null,
            "overflow_y": null,
            "padding": null,
            "right": null,
            "top": null,
            "visibility": null,
            "width": null
          }
        },
        "1c1c30c775d24b478f33bcd42ccb0331": {
          "model_module": "@jupyter-widgets/controls",
          "model_name": "DescriptionStyleModel",
          "model_module_version": "1.5.0",
          "state": {
            "_model_module": "@jupyter-widgets/controls",
            "_model_module_version": "1.5.0",
            "_model_name": "DescriptionStyleModel",
            "_view_count": null,
            "_view_module": "@jupyter-widgets/base",
            "_view_module_version": "1.2.0",
            "_view_name": "StyleView",
            "description_width": ""
          }
        },
        "911524fe47b54b5bab031f2d3bcf620f": {
          "model_module": "@jupyter-widgets/base",
          "model_name": "LayoutModel",
          "model_module_version": "1.2.0",
          "state": {
            "_model_module": "@jupyter-widgets/base",
            "_model_module_version": "1.2.0",
            "_model_name": "LayoutModel",
            "_view_count": null,
            "_view_module": "@jupyter-widgets/base",
            "_view_module_version": "1.2.0",
            "_view_name": "LayoutView",
            "align_content": null,
            "align_items": null,
            "align_self": null,
            "border": null,
            "bottom": null,
            "display": null,
            "flex": null,
            "flex_flow": null,
            "grid_area": null,
            "grid_auto_columns": null,
            "grid_auto_flow": null,
            "grid_auto_rows": null,
            "grid_column": null,
            "grid_gap": null,
            "grid_row": null,
            "grid_template_areas": null,
            "grid_template_columns": null,
            "grid_template_rows": null,
            "height": null,
            "justify_content": null,
            "justify_items": null,
            "left": null,
            "margin": null,
            "max_height": null,
            "max_width": null,
            "min_height": null,
            "min_width": null,
            "object_fit": null,
            "object_position": null,
            "order": null,
            "overflow": null,
            "overflow_x": null,
            "overflow_y": null,
            "padding": null,
            "right": null,
            "top": null,
            "visibility": null,
            "width": null
          }
        },
        "434783b0a7d848afb4103d92f241d1f2": {
          "model_module": "@jupyter-widgets/controls",
          "model_name": "ProgressStyleModel",
          "model_module_version": "1.5.0",
          "state": {
            "_model_module": "@jupyter-widgets/controls",
            "_model_module_version": "1.5.0",
            "_model_name": "ProgressStyleModel",
            "_view_count": null,
            "_view_module": "@jupyter-widgets/base",
            "_view_module_version": "1.2.0",
            "_view_name": "StyleView",
            "bar_color": null,
            "description_width": ""
          }
        },
        "1eec13dbee834875a06861d1b6dc6290": {
          "model_module": "@jupyter-widgets/base",
          "model_name": "LayoutModel",
          "model_module_version": "1.2.0",
          "state": {
            "_model_module": "@jupyter-widgets/base",
            "_model_module_version": "1.2.0",
            "_model_name": "LayoutModel",
            "_view_count": null,
            "_view_module": "@jupyter-widgets/base",
            "_view_module_version": "1.2.0",
            "_view_name": "LayoutView",
            "align_content": null,
            "align_items": null,
            "align_self": null,
            "border": null,
            "bottom": null,
            "display": null,
            "flex": null,
            "flex_flow": null,
            "grid_area": null,
            "grid_auto_columns": null,
            "grid_auto_flow": null,
            "grid_auto_rows": null,
            "grid_column": null,
            "grid_gap": null,
            "grid_row": null,
            "grid_template_areas": null,
            "grid_template_columns": null,
            "grid_template_rows": null,
            "height": null,
            "justify_content": null,
            "justify_items": null,
            "left": null,
            "margin": null,
            "max_height": null,
            "max_width": null,
            "min_height": null,
            "min_width": null,
            "object_fit": null,
            "object_position": null,
            "order": null,
            "overflow": null,
            "overflow_x": null,
            "overflow_y": null,
            "padding": null,
            "right": null,
            "top": null,
            "visibility": null,
            "width": null
          }
        },
        "f7291c1350fc4d4d9755ccfbb5036151": {
          "model_module": "@jupyter-widgets/controls",
          "model_name": "DescriptionStyleModel",
          "model_module_version": "1.5.0",
          "state": {
            "_model_module": "@jupyter-widgets/controls",
            "_model_module_version": "1.5.0",
            "_model_name": "DescriptionStyleModel",
            "_view_count": null,
            "_view_module": "@jupyter-widgets/base",
            "_view_module_version": "1.2.0",
            "_view_name": "StyleView",
            "description_width": ""
          }
        }
      }
    }
  },
  "cells": [
    {
      "cell_type": "code",
      "execution_count": null,
      "metadata": {
        "id": "BPjmzs0k3uiB",
        "colab": {
          "base_uri": "https://localhost:8080/"
        },
        "outputId": "551329ee-7ece-4674-dd67-e517660a6c3e"
      },
      "outputs": [
        {
          "output_type": "stream",
          "name": "stdout",
          "text": [
            "Mounted at /content/drive\n"
          ]
        }
      ],
      "source": [
        "# Colab 기본 Import\n",
        "import os\n",
        "import re\n",
        "import math\n",
        "import time\n",
        "import pickle\n",
        "import random\n",
        "import datetime\n",
        "\n",
        "import numpy as np\n",
        "import pandas as pd\n",
        "import matplotlib.pyplot as plt\n",
        "import seaborn as sns\n",
        "\n",
        "from tqdm import tqdm\n",
        "\n",
        "import torch\n",
        "import torch.nn as nn\n",
        "import torch.optim as optim\n",
        "import torch.nn.functional as F\n",
        "import torchvision.transforms as transforms\n",
        "from torch.utils.data import DataLoader, TensorDataset, random_split\n",
        "\n",
        "from google.colab import drive\n",
        "drive.mount('/content/drive')\n",
        "\n",
        "def seed_everything(seed: int = 42):\n",
        "    random.seed(seed)\n",
        "    np.random.seed(seed)\n",
        "    os.environ[\"PYTHONHASHSEED\"] = str(seed)\n",
        "    torch.manual_seed(seed)\n",
        "    torch.cuda.manual_seed(seed)  # type: ignore\n",
        "    torch.backends.cudnn.deterministic = True  # type: ignore\n",
        "    torch.backends.cudnn.benchmark = True  # type: ignore\n",
        "\n",
        "seed_everything()"
      ]
    },
    {
      "cell_type": "code",
      "source": [
        "class BottleNext(nn.Module):\n",
        "  def __init__(self, input_channel, output_channel, stride, cardinality=8, base_width=64, widen_factor=4):\n",
        "    super(BottleNext, self).__init__()\n",
        "\n",
        "    D = cardinality * int(base_width * (output_channel / (widen_factor * 64.)))\n",
        "    self.conv1 = nn.Conv2d(input_channel, D, kernel_size=1, stride=1, padding=0, bias=False)\n",
        "    self.bn1 = nn.BatchNorm2d(D)\n",
        "    \n",
        "    self.conv2 = nn.Conv2d(D, D, kernel_size=3, stride=stride, groups=cardinality, padding=1, bias=False)\n",
        "    self.bn2 = nn.BatchNorm2d(D)\n",
        "\n",
        "    self.conv3 = nn.Conv2d(D, output_channel, kernel_size=1, stride=1, padding=0, bias=False)\n",
        "    self.bn3 = nn.BatchNorm2d(output_channel)\n",
        "\n",
        "    self.shortcut = nn.Sequential()  \n",
        "\n",
        "    # ResNet과 달리 stride가 1이더라도 input_channel과 output_channel이 다를 수 있기에 조건을 변경\n",
        "    if input_channel != output_channel:\n",
        "      self.shortcut = nn.Sequential(\n",
        "          nn.Conv2d(input_channel, output_channel, kernel_size=1, stride=stride, bias=False),\n",
        "          nn.BatchNorm2d(output_channel)\n",
        "      )  \n",
        "      \n",
        "  def forward(self, x):\n",
        "    output = self.conv1(x)\n",
        "    # nn.ReLU vs F.relu : nn.ReLU는 model에 넣을 수 있는 nn.Module을 생성하고, F.relu는 그냥 Functional API로, 어떠한 값을 넣으면 relu를 통과한 값을 반환해주는 함수이다.\n",
        "    output = F.relu(self.bn1(output), inplace=True) \n",
        "\n",
        "    output = self.conv2(output)\n",
        "    output = F.relu(self.bn2(output), inplace=True)\n",
        "\n",
        "    output = self.conv3(output)\n",
        "    output = self.bn3(output)\n",
        "    output += self.shortcut(x)\n",
        "    output = F.relu(output, inplace=True)\n",
        "\n",
        "    return output"
      ],
      "metadata": {
        "id": "xC7L17-738uo"
      },
      "execution_count": null,
      "outputs": []
    },
    {
      "cell_type": "code",
      "source": [
        "class ResNeXt(nn.Module):\n",
        "  def __init__(self, block, num_blocks, num_classes=10):\n",
        "    super(ResNeXt, self).__init__()\n",
        "\n",
        "    self.conv1 = nn.Conv2d(3, 64, kernel_size=3, stride=1, padding=1, bias=False)\n",
        "    self.bn1 = nn.BatchNorm2d(64)\n",
        "\n",
        "    self.layers1 = self._make_layer(64, 256, BottleNext, num_blocks[0], stride=1)\n",
        "    self.layers2 = self._make_layer(256, 512, BottleNext, num_blocks[1], stride=2)\n",
        "    self.layers3 = self._make_layer(512, 1024, BottleNext, num_blocks[2], stride=2)\n",
        "\n",
        "    self.avgpool = nn.AvgPool2d(8)\n",
        "    self.fc = nn.Linear(1024, num_classes)\n",
        "\n",
        "    nn.init.kaiming_normal_(self.fc.weight)\n",
        "\n",
        "    for key in self.state_dict():\n",
        "      if key.split('.')[-1] == 'weight':\n",
        "          if 'conv' in key:\n",
        "            nn.init.kaiming_normal_(self.state_dict()[key], mode='fan_out')\n",
        "          if 'bn' in key:\n",
        "            self.state_dict()[key][...] = 1\n",
        "      elif key.split('.')[-1] == 'bias':\n",
        "        self.state_dict()[key][...] = 0\n",
        "\n",
        "\n",
        "  def _make_layer(self, input_channel, output_channel, block, num_blocks, stride):\n",
        "    strides = [stride] + [1] * (num_blocks - 1)\n",
        "    layers = []\n",
        "    for stride in strides:\n",
        "      layers.append(block(input_channel, output_channel, stride))\n",
        "      input_channel = output_channel\n",
        "    return nn.Sequential(*layers)\n",
        "\n",
        "  def forward(self, x):\n",
        "    out = self.conv1(x)\n",
        "    out = F.relu(self.bn1(out), inplace=True)\n",
        "\n",
        "    out = self.layers1(out)\n",
        "    out = self.layers2(out)\n",
        "    out = self.layers3(out)\n",
        "    out = self.avgpool(out)\n",
        "\n",
        "    out = out.view(out.size(0), -1)\n",
        "    out = self.fc(out)\n",
        "\n",
        "    return out"
      ],
      "metadata": {
        "id": "IThAztJI84rx"
      },
      "execution_count": null,
      "outputs": []
    },
    {
      "cell_type": "code",
      "source": [
        "from torchvision import datasets\n",
        "\n",
        "transform_train = transforms.Compose([transforms.RandomCrop(32, padding=4),\n",
        "                                transforms.RandomHorizontalFlip(p=0.5),\n",
        "                                transforms.ToTensor(), \n",
        "                                transforms.Normalize((0.5, 0.5, 0.5), (0.5, 0.5, 0.5))\n",
        "                                ])\n",
        "\n",
        "transform = transforms.Compose([transforms.ToTensor(), \n",
        "                                transforms.Normalize((0.5, 0.5, 0.5), (0.5, 0.5, 0.5))\n",
        "                                ])\n",
        "\n",
        "trainset = datasets.CIFAR10(root=\"./data\", train=True, download=True, transform=transform)\n",
        "testset = datasets.CIFAR10(root=\"./data\", train=False, download=True, transform=transform)\n",
        "classes = trainset.classes\n",
        "\n",
        "train_loader = torch.utils.data.DataLoader(dataset=trainset, batch_size=128, shuffle=True)\n",
        "test_loader = torch.utils.data.DataLoader(dataset=testset, batch_size=64, shuffle=False)\n",
        "\n",
        "print(classes)"
      ],
      "metadata": {
        "colab": {
          "base_uri": "https://localhost:8080/",
          "height": 122,
          "referenced_widgets": [
            "4019c6a959eb40ab98c44fcb5bf15c4e",
            "a928cab9a0ab43c2bd69c84b260ca4bf",
            "84f23b1dd67f4f9594e209fe0da066b5",
            "216dd0c7a3f74c80acfe6a7d848b21de",
            "fb7f008c6c4f47748fd729ddfa049dd6",
            "26acfab8a46b4d25bed650c8e558edc0",
            "1c1c30c775d24b478f33bcd42ccb0331",
            "911524fe47b54b5bab031f2d3bcf620f",
            "434783b0a7d848afb4103d92f241d1f2",
            "1eec13dbee834875a06861d1b6dc6290",
            "f7291c1350fc4d4d9755ccfbb5036151"
          ]
        },
        "id": "P7fkWBB6NLxS",
        "outputId": "40e2248e-8452-440e-8282-0a09a8d7fea5"
      },
      "execution_count": null,
      "outputs": [
        {
          "output_type": "stream",
          "name": "stdout",
          "text": [
            "Downloading https://www.cs.toronto.edu/~kriz/cifar-10-python.tar.gz to ./data/cifar-10-python.tar.gz\n"
          ]
        },
        {
          "output_type": "display_data",
          "data": {
            "text/plain": [
              "  0%|          | 0/170498071 [00:00<?, ?it/s]"
            ],
            "application/vnd.jupyter.widget-view+json": {
              "version_major": 2,
              "version_minor": 0,
              "model_id": "4019c6a959eb40ab98c44fcb5bf15c4e"
            }
          },
          "metadata": {}
        },
        {
          "output_type": "stream",
          "name": "stdout",
          "text": [
            "Extracting ./data/cifar-10-python.tar.gz to ./data\n",
            "Files already downloaded and verified\n",
            "['airplane', 'automobile', 'bird', 'cat', 'deer', 'dog', 'frog', 'horse', 'ship', 'truck']\n"
          ]
        }
      ]
    },
    {
      "cell_type": "code",
      "source": [
        "len(trainset), len(testset)"
      ],
      "metadata": {
        "colab": {
          "base_uri": "https://localhost:8080/"
        },
        "id": "aUmCKfgxhlOr",
        "outputId": "c54f0ce8-0f9a-422e-debf-64f20f0d2b62"
      },
      "execution_count": null,
      "outputs": [
        {
          "output_type": "execute_result",
          "data": {
            "text/plain": [
              "(50000, 10000)"
            ]
          },
          "metadata": {},
          "execution_count": 5
        }
      ]
    },
    {
      "cell_type": "code",
      "source": [
        "DEVICE = torch.device(\"cuda\" if torch.cuda.is_available() else \"cpu\")\n",
        "model = ResNeXt(BottleNext, [3, 3, 3]).to(DEVICE)\n",
        "loss_func = nn.CrossEntropyLoss()\n",
        "optimizer = optim.SGD(model.parameters(), lr=0.05, momentum=0.9, weight_decay=0.0005, nesterov=True)\n",
        "start_epoch = 0\n",
        "epochs = 120\n",
        "train_score = []\n",
        "test_score = []\n",
        "print(DEVICE)"
      ],
      "metadata": {
        "colab": {
          "base_uri": "https://localhost:8080/"
        },
        "id": "AOnGvXICNQUy",
        "outputId": "d9a2cf41-500e-4bde-c84e-eefd71827863"
      },
      "execution_count": null,
      "outputs": [
        {
          "output_type": "stream",
          "name": "stdout",
          "text": [
            "cuda\n"
          ]
        }
      ]
    },
    {
      "cell_type": "code",
      "source": [
        "if input() == \"Y\":\n",
        "  model_data = torch.load(input())\n",
        "\n",
        "  model.load_state_dict(model_data['model_state_dict'])\n",
        "\n",
        "  optimizer = optim.SGD(model.parameters(), lr=0.1, momentum=0.9, weight_decay=0.0005, nesterov=True)\n",
        "\n",
        "  optimizer.load_state_dict(model_data['optimizer_state_dict'])\n",
        "\n",
        "  start_epoch = model_data['epoch'] + 1"
      ],
      "metadata": {
        "colab": {
          "base_uri": "https://localhost:8080/"
        },
        "id": "VZb89D01ayxa",
        "outputId": "d895b831-c76a-461a-92cd-b08e4300508b"
      },
      "execution_count": null,
      "outputs": [
        {
          "name": "stdout",
          "output_type": "stream",
          "text": [
            "Y\n",
            "/content/drive/MyDrive/논문 구현/ResNeXt(2017)/ResNeXt_Cifar10_100.pth\n"
          ]
        }
      ]
    },
    {
      "cell_type": "code",
      "source": [
        "import torchsummary\n",
        "torchsummary.summary(model, (3, 32, 32),device=\"cuda\")"
      ],
      "metadata": {
        "colab": {
          "base_uri": "https://localhost:8080/"
        },
        "id": "XgYLeRt3e1AH",
        "outputId": "8a747304-c631-41e2-c93c-7a8310137d18"
      },
      "execution_count": null,
      "outputs": [
        {
          "output_type": "stream",
          "name": "stdout",
          "text": [
            "----------------------------------------------------------------\n",
            "        Layer (type)               Output Shape         Param #\n",
            "================================================================\n",
            "            Conv2d-1           [-1, 64, 32, 32]           1,728\n",
            "       BatchNorm2d-2           [-1, 64, 32, 32]             128\n",
            "            Conv2d-3          [-1, 512, 32, 32]          32,768\n",
            "       BatchNorm2d-4          [-1, 512, 32, 32]           1,024\n",
            "            Conv2d-5          [-1, 512, 32, 32]         294,912\n",
            "       BatchNorm2d-6          [-1, 512, 32, 32]           1,024\n",
            "            Conv2d-7          [-1, 256, 32, 32]         131,072\n",
            "       BatchNorm2d-8          [-1, 256, 32, 32]             512\n",
            "            Conv2d-9          [-1, 256, 32, 32]          16,384\n",
            "      BatchNorm2d-10          [-1, 256, 32, 32]             512\n",
            "       BottleNext-11          [-1, 256, 32, 32]               0\n",
            "           Conv2d-12          [-1, 512, 32, 32]         131,072\n",
            "      BatchNorm2d-13          [-1, 512, 32, 32]           1,024\n",
            "           Conv2d-14          [-1, 512, 32, 32]         294,912\n",
            "      BatchNorm2d-15          [-1, 512, 32, 32]           1,024\n",
            "           Conv2d-16          [-1, 256, 32, 32]         131,072\n",
            "      BatchNorm2d-17          [-1, 256, 32, 32]             512\n",
            "       BottleNext-18          [-1, 256, 32, 32]               0\n",
            "           Conv2d-19          [-1, 512, 32, 32]         131,072\n",
            "      BatchNorm2d-20          [-1, 512, 32, 32]           1,024\n",
            "           Conv2d-21          [-1, 512, 32, 32]         294,912\n",
            "      BatchNorm2d-22          [-1, 512, 32, 32]           1,024\n",
            "           Conv2d-23          [-1, 256, 32, 32]         131,072\n",
            "      BatchNorm2d-24          [-1, 256, 32, 32]             512\n",
            "       BottleNext-25          [-1, 256, 32, 32]               0\n",
            "           Conv2d-26         [-1, 1024, 32, 32]         262,144\n",
            "      BatchNorm2d-27         [-1, 1024, 32, 32]           2,048\n",
            "           Conv2d-28         [-1, 1024, 16, 16]       1,179,648\n",
            "      BatchNorm2d-29         [-1, 1024, 16, 16]           2,048\n",
            "           Conv2d-30          [-1, 512, 16, 16]         524,288\n",
            "      BatchNorm2d-31          [-1, 512, 16, 16]           1,024\n",
            "           Conv2d-32          [-1, 512, 16, 16]         131,072\n",
            "      BatchNorm2d-33          [-1, 512, 16, 16]           1,024\n",
            "       BottleNext-34          [-1, 512, 16, 16]               0\n",
            "           Conv2d-35         [-1, 1024, 16, 16]         524,288\n",
            "      BatchNorm2d-36         [-1, 1024, 16, 16]           2,048\n",
            "           Conv2d-37         [-1, 1024, 16, 16]       1,179,648\n",
            "      BatchNorm2d-38         [-1, 1024, 16, 16]           2,048\n",
            "           Conv2d-39          [-1, 512, 16, 16]         524,288\n",
            "      BatchNorm2d-40          [-1, 512, 16, 16]           1,024\n",
            "       BottleNext-41          [-1, 512, 16, 16]               0\n",
            "           Conv2d-42         [-1, 1024, 16, 16]         524,288\n",
            "      BatchNorm2d-43         [-1, 1024, 16, 16]           2,048\n",
            "           Conv2d-44         [-1, 1024, 16, 16]       1,179,648\n",
            "      BatchNorm2d-45         [-1, 1024, 16, 16]           2,048\n",
            "           Conv2d-46          [-1, 512, 16, 16]         524,288\n",
            "      BatchNorm2d-47          [-1, 512, 16, 16]           1,024\n",
            "       BottleNext-48          [-1, 512, 16, 16]               0\n",
            "           Conv2d-49         [-1, 2048, 16, 16]       1,048,576\n",
            "      BatchNorm2d-50         [-1, 2048, 16, 16]           4,096\n",
            "           Conv2d-51           [-1, 2048, 8, 8]       4,718,592\n",
            "      BatchNorm2d-52           [-1, 2048, 8, 8]           4,096\n",
            "           Conv2d-53           [-1, 1024, 8, 8]       2,097,152\n",
            "      BatchNorm2d-54           [-1, 1024, 8, 8]           2,048\n",
            "           Conv2d-55           [-1, 1024, 8, 8]         524,288\n",
            "      BatchNorm2d-56           [-1, 1024, 8, 8]           2,048\n",
            "       BottleNext-57           [-1, 1024, 8, 8]               0\n",
            "           Conv2d-58           [-1, 2048, 8, 8]       2,097,152\n",
            "      BatchNorm2d-59           [-1, 2048, 8, 8]           4,096\n",
            "           Conv2d-60           [-1, 2048, 8, 8]       4,718,592\n",
            "      BatchNorm2d-61           [-1, 2048, 8, 8]           4,096\n",
            "           Conv2d-62           [-1, 1024, 8, 8]       2,097,152\n",
            "      BatchNorm2d-63           [-1, 1024, 8, 8]           2,048\n",
            "       BottleNext-64           [-1, 1024, 8, 8]               0\n",
            "           Conv2d-65           [-1, 2048, 8, 8]       2,097,152\n",
            "      BatchNorm2d-66           [-1, 2048, 8, 8]           4,096\n",
            "           Conv2d-67           [-1, 2048, 8, 8]       4,718,592\n",
            "      BatchNorm2d-68           [-1, 2048, 8, 8]           4,096\n",
            "           Conv2d-69           [-1, 1024, 8, 8]       2,097,152\n",
            "      BatchNorm2d-70           [-1, 1024, 8, 8]           2,048\n",
            "       BottleNext-71           [-1, 1024, 8, 8]               0\n",
            "        AvgPool2d-72           [-1, 1024, 1, 1]               0\n",
            "           Linear-73                   [-1, 10]          10,250\n",
            "================================================================\n",
            "Total params: 34,426,698\n",
            "Trainable params: 34,426,698\n",
            "Non-trainable params: 0\n",
            "----------------------------------------------------------------\n",
            "Input size (MB): 0.01\n",
            "Forward/backward pass size (MB): 141.51\n",
            "Params size (MB): 131.33\n",
            "Estimated Total Size (MB): 272.85\n",
            "----------------------------------------------------------------\n"
          ]
        }
      ]
    },
    {
      "cell_type": "code",
      "source": [
        "for epoch in range(start_epoch, epochs):\n",
        "    model.train()\n",
        "    train_acc = 0\n",
        "    if epoch in [100]:\n",
        "      for param_group in optimizer.param_groups:\n",
        "          param_group['lr'] *= 0.1\n",
        "    for idx, batch in tqdm(enumerate(train_loader)):\n",
        "      optimizer.zero_grad()\n",
        "      X_tmp, y_tmp = batch\n",
        "      X_tmp, y_tmp = X_tmp.to(DEVICE), y_tmp.to(DEVICE)\n",
        "      y_pred = model(X_tmp)\n",
        "      loss = loss_func(y_pred, y_tmp)\n",
        "\n",
        "      y_pred = torch.tensor([torch.argmax(pred_list) for pred_list in y_pred], device=DEVICE)\n",
        "      correct = (y_pred == y_tmp).sum().item()\n",
        "\n",
        "      loss.backward()\n",
        "      optimizer.step()\n",
        "      train_acc += correct\n",
        "    train_acc /= len(trainset)\n",
        "\n",
        "    model.eval()\n",
        "    test_acc = 0\n",
        "    for idx, batch in enumerate(test_loader):\n",
        "      X_tmp, y_tmp = batch\n",
        "      X_tmp, y_tmp = X_tmp.to(DEVICE), y_tmp.to(DEVICE)\n",
        "      y_pred = model(X_tmp)\n",
        "      y_pred = torch.tensor([torch.argmax(pred_list) for pred_list in y_pred], device=DEVICE)\n",
        "      correct = (y_pred == y_tmp).sum().item()\n",
        "      test_acc += correct\n",
        "    test_acc /= len(testset)\n",
        "\n",
        "    train_score.append(round(train_acc, 4))\n",
        "    test_score.append(round(test_acc, 4))\n",
        "    if not epoch%10:\n",
        "      torch.save({\n",
        "              'epoch': epoch,\n",
        "              'optimizer_state_dict': optimizer.state_dict(),\n",
        "              'model_state_dict': model.state_dict(),\n",
        "          }, f'./drive/MyDrive/논문 구현/ResNeXt(2017)/ResNeXt_Cifar10_{epoch:03d}.pth')\n",
        "      \n",
        "      with open(f\"./drive/MyDrive/논문 구현/ResNeXt(2017)/train_score_{epoch:03d}.pkl\",\"wb\") as f:\n",
        "        pickle.dump(train_score, f)\n",
        "      with open(f\"./drive/MyDrive/논문 구현/ResNeXt(2017)/test_score_{epoch:03d}.pkl\",\"wb\") as f:\n",
        "        pickle.dump(test_score, f)\n",
        "\n",
        "    print(f\"{epoch}/{epochs} epoch - train_Acc : {round(train_acc, 4)}, test_ACC : {round(test_acc, 4)}\")\n",
        "\n",
        "torch.save({\n",
        "            'epoch': epoch,\n",
        "            'optimizer_state_dict': optimizer.state_dict(),\n",
        "            'model_state_dict': model.state_dict(),\n",
        "        }, './drive/MyDrive/논문 구현/ResNeXt(2017)/ResNeXt_Cifar10_100_120.pth')\n",
        "\n",
        "with open(\"./drive/MyDrive/논문 구현/ResNeXt(2017)/train_score_100_120.pkl\",\"wb\") as f: \n",
        "  pickle.dump(train_score, f)\n",
        "with open(\"./drive/MyDrive/논문 구현/ResNeXt(2017)/test_score_100_120.pkl\",\"wb\") as f:\n",
        "  pickle.dump(test_score, f)"
      ],
      "metadata": {
        "colab": {
          "base_uri": "https://localhost:8080/",
          "height": 1000
        },
        "id": "FVeEyNI7Nftp",
        "outputId": "55a0e5b1-fa26-4279-b386-dbd663ee5ce8"
      },
      "execution_count": 9,
      "outputs": [
        {
          "metadata": {
            "tags": null
          },
          "name": "stderr",
          "output_type": "stream",
          "text": [
            "391it [05:11,  1.26it/s]\n"
          ]
        },
        {
          "metadata": {
            "tags": null
          },
          "name": "stdout",
          "output_type": "stream",
          "text": [
            "101/120 epoch - train_Acc : 0.9999, test_ACC : 0.895\n"
          ]
        },
        {
          "metadata": {
            "tags": null
          },
          "name": "stderr",
          "output_type": "stream",
          "text": [
            "391it [05:00,  1.30it/s]\n"
          ]
        },
        {
          "metadata": {
            "tags": null
          },
          "name": "stdout",
          "output_type": "stream",
          "text": [
            "102/120 epoch - train_Acc : 1.0, test_ACC : 0.8978\n"
          ]
        },
        {
          "metadata": {
            "tags": null
          },
          "name": "stderr",
          "output_type": "stream",
          "text": [
            "391it [05:00,  1.30it/s]\n"
          ]
        },
        {
          "metadata": {
            "tags": null
          },
          "name": "stdout",
          "output_type": "stream",
          "text": [
            "103/120 epoch - train_Acc : 1.0, test_ACC : 0.899\n"
          ]
        },
        {
          "metadata": {
            "tags": null
          },
          "name": "stderr",
          "output_type": "stream",
          "text": [
            "391it [05:00,  1.30it/s]\n"
          ]
        },
        {
          "metadata": {
            "tags": null
          },
          "name": "stdout",
          "output_type": "stream",
          "text": [
            "104/120 epoch - train_Acc : 1.0, test_ACC : 0.8988\n"
          ]
        },
        {
          "metadata": {
            "tags": null
          },
          "name": "stderr",
          "output_type": "stream",
          "text": [
            "391it [05:00,  1.30it/s]\n"
          ]
        },
        {
          "metadata": {
            "tags": null
          },
          "name": "stdout",
          "output_type": "stream",
          "text": [
            "105/120 epoch - train_Acc : 1.0, test_ACC : 0.8997\n"
          ]
        },
        {
          "metadata": {
            "tags": null
          },
          "name": "stderr",
          "output_type": "stream",
          "text": [
            "391it [05:00,  1.30it/s]\n"
          ]
        },
        {
          "metadata": {
            "tags": null
          },
          "name": "stdout",
          "output_type": "stream",
          "text": [
            "106/120 epoch - train_Acc : 1.0, test_ACC : 0.8989\n"
          ]
        },
        {
          "metadata": {
            "tags": null
          },
          "name": "stderr",
          "output_type": "stream",
          "text": [
            "391it [05:00,  1.30it/s]\n"
          ]
        },
        {
          "metadata": {
            "tags": null
          },
          "name": "stdout",
          "output_type": "stream",
          "text": [
            "107/120 epoch - train_Acc : 1.0, test_ACC : 0.8985\n"
          ]
        },
        {
          "metadata": {
            "tags": null
          },
          "name": "stderr",
          "output_type": "stream",
          "text": [
            "391it [05:00,  1.30it/s]\n"
          ]
        },
        {
          "metadata": {
            "tags": null
          },
          "name": "stdout",
          "output_type": "stream",
          "text": [
            "108/120 epoch - train_Acc : 1.0, test_ACC : 0.8994\n"
          ]
        },
        {
          "metadata": {
            "tags": null
          },
          "name": "stderr",
          "output_type": "stream",
          "text": [
            "391it [05:00,  1.30it/s]\n"
          ]
        },
        {
          "metadata": {
            "tags": null
          },
          "name": "stdout",
          "output_type": "stream",
          "text": [
            "109/120 epoch - train_Acc : 1.0, test_ACC : 0.8985\n"
          ]
        },
        {
          "metadata": {
            "tags": null
          },
          "name": "stderr",
          "output_type": "stream",
          "text": [
            "391it [05:00,  1.30it/s]\n"
          ]
        },
        {
          "metadata": {
            "tags": null
          },
          "name": "stdout",
          "output_type": "stream",
          "text": [
            "110/120 epoch - train_Acc : 1.0, test_ACC : 0.9013\n"
          ]
        },
        {
          "metadata": {
            "tags": null
          },
          "name": "stderr",
          "output_type": "stream",
          "text": [
            "391it [05:00,  1.30it/s]\n"
          ]
        },
        {
          "metadata": {
            "tags": null
          },
          "name": "stdout",
          "output_type": "stream",
          "text": [
            "111/120 epoch - train_Acc : 1.0, test_ACC : 0.9013\n"
          ]
        },
        {
          "metadata": {
            "tags": null
          },
          "name": "stderr",
          "output_type": "stream",
          "text": [
            "391it [05:00,  1.30it/s]\n"
          ]
        },
        {
          "metadata": {
            "tags": null
          },
          "name": "stdout",
          "output_type": "stream",
          "text": [
            "112/120 epoch - train_Acc : 1.0, test_ACC : 0.9008\n"
          ]
        },
        {
          "metadata": {
            "tags": null
          },
          "name": "stderr",
          "output_type": "stream",
          "text": [
            "391it [05:00,  1.30it/s]\n"
          ]
        },
        {
          "metadata": {
            "tags": null
          },
          "name": "stdout",
          "output_type": "stream",
          "text": [
            "113/120 epoch - train_Acc : 1.0, test_ACC : 0.9015\n"
          ]
        },
        {
          "output_type": "stream",
          "name": "stderr",
          "text": [
            "391it [05:00,  1.30it/s]\n"
          ]
        },
        {
          "output_type": "stream",
          "name": "stdout",
          "text": [
            "114/120 epoch - train_Acc : 1.0, test_ACC : 0.9001\n"
          ]
        },
        {
          "output_type": "stream",
          "name": "stderr",
          "text": [
            "391it [05:00,  1.30it/s]\n"
          ]
        },
        {
          "output_type": "stream",
          "name": "stdout",
          "text": [
            "115/120 epoch - train_Acc : 1.0, test_ACC : 0.9025\n"
          ]
        },
        {
          "output_type": "stream",
          "name": "stderr",
          "text": [
            "391it [05:01,  1.30it/s]\n"
          ]
        },
        {
          "output_type": "stream",
          "name": "stdout",
          "text": [
            "116/120 epoch - train_Acc : 1.0, test_ACC : 0.9019\n"
          ]
        },
        {
          "output_type": "stream",
          "name": "stderr",
          "text": [
            "391it [05:01,  1.30it/s]\n"
          ]
        },
        {
          "output_type": "stream",
          "name": "stdout",
          "text": [
            "117/120 epoch - train_Acc : 1.0, test_ACC : 0.9019\n"
          ]
        },
        {
          "output_type": "stream",
          "name": "stderr",
          "text": [
            "391it [05:01,  1.30it/s]\n"
          ]
        },
        {
          "output_type": "stream",
          "name": "stdout",
          "text": [
            "118/120 epoch - train_Acc : 1.0, test_ACC : 0.9018\n"
          ]
        },
        {
          "output_type": "stream",
          "name": "stderr",
          "text": [
            "391it [05:00,  1.30it/s]\n"
          ]
        },
        {
          "output_type": "stream",
          "name": "stdout",
          "text": [
            "119/120 epoch - train_Acc : 1.0, test_ACC : 0.9017\n"
          ]
        },
        {
          "output_type": "error",
          "ename": "FileNotFoundError",
          "evalue": "ignored",
          "traceback": [
            "\u001b[0;31m---------------------------------------------------------------------------\u001b[0m",
            "\u001b[0;31mFileNotFoundError\u001b[0m                         Traceback (most recent call last)",
            "\u001b[0;32m<ipython-input-9-ebde628cb3d0>\u001b[0m in \u001b[0;36m<module>\u001b[0;34m()\u001b[0m\n\u001b[1;32m     51\u001b[0m             \u001b[0;34m'optimizer_state_dict'\u001b[0m\u001b[0;34m:\u001b[0m \u001b[0moptimizer\u001b[0m\u001b[0;34m.\u001b[0m\u001b[0mstate_dict\u001b[0m\u001b[0;34m(\u001b[0m\u001b[0;34m)\u001b[0m\u001b[0;34m,\u001b[0m\u001b[0;34m\u001b[0m\u001b[0;34m\u001b[0m\u001b[0m\n\u001b[1;32m     52\u001b[0m             \u001b[0;34m'model_state_dict'\u001b[0m\u001b[0;34m:\u001b[0m \u001b[0mmodel\u001b[0m\u001b[0;34m.\u001b[0m\u001b[0mstate_dict\u001b[0m\u001b[0;34m(\u001b[0m\u001b[0;34m)\u001b[0m\u001b[0;34m,\u001b[0m\u001b[0;34m\u001b[0m\u001b[0;34m\u001b[0m\u001b[0m\n\u001b[0;32m---> 53\u001b[0;31m         }, './drive/MyDrive/Code/논문 구현/ResNeXt/ResNeXt_Cifar10_Final.pth')\n\u001b[0m\u001b[1;32m     54\u001b[0m \u001b[0;34m\u001b[0m\u001b[0m\n\u001b[1;32m     55\u001b[0m \u001b[0;32mwith\u001b[0m \u001b[0mopen\u001b[0m\u001b[0;34m(\u001b[0m\u001b[0;34m\"./drive/MyDrive/논문 구현/ResNeXt(2017)/train_score_Final.pkl\"\u001b[0m\u001b[0;34m,\u001b[0m\u001b[0;34m\"wb\"\u001b[0m\u001b[0;34m)\u001b[0m \u001b[0;32mas\u001b[0m \u001b[0mf\u001b[0m\u001b[0;34m:\u001b[0m\u001b[0;34m\u001b[0m\u001b[0;34m\u001b[0m\u001b[0m\n",
            "\u001b[0;32m/usr/local/lib/python3.7/dist-packages/torch/serialization.py\u001b[0m in \u001b[0;36msave\u001b[0;34m(obj, f, pickle_module, pickle_protocol, _use_new_zipfile_serialization)\u001b[0m\n\u001b[1;32m    374\u001b[0m     \u001b[0m_check_dill_version\u001b[0m\u001b[0;34m(\u001b[0m\u001b[0mpickle_module\u001b[0m\u001b[0;34m)\u001b[0m\u001b[0;34m\u001b[0m\u001b[0;34m\u001b[0m\u001b[0m\n\u001b[1;32m    375\u001b[0m \u001b[0;34m\u001b[0m\u001b[0m\n\u001b[0;32m--> 376\u001b[0;31m     \u001b[0;32mwith\u001b[0m \u001b[0m_open_file_like\u001b[0m\u001b[0;34m(\u001b[0m\u001b[0mf\u001b[0m\u001b[0;34m,\u001b[0m \u001b[0;34m'wb'\u001b[0m\u001b[0;34m)\u001b[0m \u001b[0;32mas\u001b[0m \u001b[0mopened_file\u001b[0m\u001b[0;34m:\u001b[0m\u001b[0;34m\u001b[0m\u001b[0;34m\u001b[0m\u001b[0m\n\u001b[0m\u001b[1;32m    377\u001b[0m         \u001b[0;32mif\u001b[0m \u001b[0m_use_new_zipfile_serialization\u001b[0m\u001b[0;34m:\u001b[0m\u001b[0;34m\u001b[0m\u001b[0;34m\u001b[0m\u001b[0m\n\u001b[1;32m    378\u001b[0m             \u001b[0;32mwith\u001b[0m \u001b[0m_open_zipfile_writer\u001b[0m\u001b[0;34m(\u001b[0m\u001b[0mopened_file\u001b[0m\u001b[0;34m)\u001b[0m \u001b[0;32mas\u001b[0m \u001b[0mopened_zipfile\u001b[0m\u001b[0;34m:\u001b[0m\u001b[0;34m\u001b[0m\u001b[0;34m\u001b[0m\u001b[0m\n",
            "\u001b[0;32m/usr/local/lib/python3.7/dist-packages/torch/serialization.py\u001b[0m in \u001b[0;36m_open_file_like\u001b[0;34m(name_or_buffer, mode)\u001b[0m\n\u001b[1;32m    228\u001b[0m \u001b[0;32mdef\u001b[0m \u001b[0m_open_file_like\u001b[0m\u001b[0;34m(\u001b[0m\u001b[0mname_or_buffer\u001b[0m\u001b[0;34m,\u001b[0m \u001b[0mmode\u001b[0m\u001b[0;34m)\u001b[0m\u001b[0;34m:\u001b[0m\u001b[0;34m\u001b[0m\u001b[0;34m\u001b[0m\u001b[0m\n\u001b[1;32m    229\u001b[0m     \u001b[0;32mif\u001b[0m \u001b[0m_is_path\u001b[0m\u001b[0;34m(\u001b[0m\u001b[0mname_or_buffer\u001b[0m\u001b[0;34m)\u001b[0m\u001b[0;34m:\u001b[0m\u001b[0;34m\u001b[0m\u001b[0;34m\u001b[0m\u001b[0m\n\u001b[0;32m--> 230\u001b[0;31m         \u001b[0;32mreturn\u001b[0m \u001b[0m_open_file\u001b[0m\u001b[0;34m(\u001b[0m\u001b[0mname_or_buffer\u001b[0m\u001b[0;34m,\u001b[0m \u001b[0mmode\u001b[0m\u001b[0;34m)\u001b[0m\u001b[0;34m\u001b[0m\u001b[0;34m\u001b[0m\u001b[0m\n\u001b[0m\u001b[1;32m    231\u001b[0m     \u001b[0;32melse\u001b[0m\u001b[0;34m:\u001b[0m\u001b[0;34m\u001b[0m\u001b[0;34m\u001b[0m\u001b[0m\n\u001b[1;32m    232\u001b[0m         \u001b[0;32mif\u001b[0m \u001b[0;34m'w'\u001b[0m \u001b[0;32min\u001b[0m \u001b[0mmode\u001b[0m\u001b[0;34m:\u001b[0m\u001b[0;34m\u001b[0m\u001b[0;34m\u001b[0m\u001b[0m\n",
            "\u001b[0;32m/usr/local/lib/python3.7/dist-packages/torch/serialization.py\u001b[0m in \u001b[0;36m__init__\u001b[0;34m(self, name, mode)\u001b[0m\n\u001b[1;32m    209\u001b[0m \u001b[0;32mclass\u001b[0m \u001b[0m_open_file\u001b[0m\u001b[0;34m(\u001b[0m\u001b[0m_opener\u001b[0m\u001b[0;34m)\u001b[0m\u001b[0;34m:\u001b[0m\u001b[0;34m\u001b[0m\u001b[0;34m\u001b[0m\u001b[0m\n\u001b[1;32m    210\u001b[0m     \u001b[0;32mdef\u001b[0m \u001b[0m__init__\u001b[0m\u001b[0;34m(\u001b[0m\u001b[0mself\u001b[0m\u001b[0;34m,\u001b[0m \u001b[0mname\u001b[0m\u001b[0;34m,\u001b[0m \u001b[0mmode\u001b[0m\u001b[0;34m)\u001b[0m\u001b[0;34m:\u001b[0m\u001b[0;34m\u001b[0m\u001b[0;34m\u001b[0m\u001b[0m\n\u001b[0;32m--> 211\u001b[0;31m         \u001b[0msuper\u001b[0m\u001b[0;34m(\u001b[0m\u001b[0m_open_file\u001b[0m\u001b[0;34m,\u001b[0m \u001b[0mself\u001b[0m\u001b[0;34m)\u001b[0m\u001b[0;34m.\u001b[0m\u001b[0m__init__\u001b[0m\u001b[0;34m(\u001b[0m\u001b[0mopen\u001b[0m\u001b[0;34m(\u001b[0m\u001b[0mname\u001b[0m\u001b[0;34m,\u001b[0m \u001b[0mmode\u001b[0m\u001b[0;34m)\u001b[0m\u001b[0;34m)\u001b[0m\u001b[0;34m\u001b[0m\u001b[0;34m\u001b[0m\u001b[0m\n\u001b[0m\u001b[1;32m    212\u001b[0m \u001b[0;34m\u001b[0m\u001b[0m\n\u001b[1;32m    213\u001b[0m     \u001b[0;32mdef\u001b[0m \u001b[0m__exit__\u001b[0m\u001b[0;34m(\u001b[0m\u001b[0mself\u001b[0m\u001b[0;34m,\u001b[0m \u001b[0;34m*\u001b[0m\u001b[0margs\u001b[0m\u001b[0;34m)\u001b[0m\u001b[0;34m:\u001b[0m\u001b[0;34m\u001b[0m\u001b[0;34m\u001b[0m\u001b[0m\n",
            "\u001b[0;31mFileNotFoundError\u001b[0m: [Errno 2] No such file or directory: './drive/MyDrive/Code/논문 구현/ResNeXt/ResNeXt_Cifar10_Final.pth'"
          ]
        }
      ]
    },
    {
      "cell_type": "code",
      "source": [
        "if input() == \"Y\":\n",
        "  model_data = torch.load(input())\n",
        "\n",
        "  model.load_state_dict(model_data['model_state_dict'])\n",
        "\n",
        "  optimizer = optim.SGD(model.parameters(), lr=0.1, momentum=0.9, weight_decay=0.0005, nesterov=True)\n",
        "\n",
        "  optimizer.load_state_dict(model_data['optimizer_state_dict'])\n",
        "\n",
        "  start_epoch = model_data['epoch'] + 1"
      ],
      "metadata": {
        "id": "20ItOvqfigeo",
        "colab": {
          "base_uri": "https://localhost:8080/"
        },
        "outputId": "fd83035f-d860-4320-e271-9aca732895da"
      },
      "execution_count": 17,
      "outputs": [
        {
          "name": "stdout",
          "output_type": "stream",
          "text": [
            "Y\n",
            "/content/drive/MyDrive/논문 구현/ResNeXt(2017)/ResNeXt_Cifar10_Final.pth\n"
          ]
        }
      ]
    },
    {
      "cell_type": "code",
      "source": [
        "model.eval()\n",
        "test_acc = 0\n",
        "for idx, batch in enumerate(test_loader):\n",
        "  X_tmp, y_tmp = batch\n",
        "  X_tmp, y_tmp = X_tmp.to(DEVICE), y_tmp.to(DEVICE)\n",
        "  y_pred = model(X_tmp)\n",
        "  y_pred = torch.tensor([torch.argmax(pred_list) for pred_list in y_pred], device=DEVICE)\n",
        "  correct = (y_pred == y_tmp).sum().item()\n",
        "  test_acc += correct\n",
        "test_acc /= len(testset)"
      ],
      "metadata": {
        "id": "ue1-LXRkosZr"
      },
      "execution_count": 18,
      "outputs": []
    },
    {
      "cell_type": "code",
      "source": [
        "print(f\"Final Test Accuracy : {test_acc:.3f}\")"
      ],
      "metadata": {
        "colab": {
          "base_uri": "https://localhost:8080/"
        },
        "id": "hrb8aPCzpxNL",
        "outputId": "01afa6d5-cd70-406e-bf00-40ae00b01aca"
      },
      "execution_count": 19,
      "outputs": [
        {
          "output_type": "stream",
          "name": "stdout",
          "text": [
            "Final Test Accuracy : 0.902\n"
          ]
        }
      ]
    }
  ]
}